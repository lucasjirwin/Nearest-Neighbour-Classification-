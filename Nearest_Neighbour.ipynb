{
  "nbformat": 4,
  "nbformat_minor": 0,
  "metadata": {
    "colab": {
      "name": "Nearest_Neighbour.ipynb",
      "provenance": [],
      "authorship_tag": "ABX9TyPwR7yiCGqL2lD0UC244Znz",
      "include_colab_link": true
    },
    "kernelspec": {
      "name": "python3",
      "display_name": "Python 3"
    }
  },
  "cells": [
    {
      "cell_type": "markdown",
      "metadata": {
        "id": "view-in-github",
        "colab_type": "text"
      },
      "source": [
        "<a href=\"https://colab.research.google.com/github/lucasjirwin/Nearest-Neighbour-Classification-/blob/main/Nearest_Neighbour.ipynb\" target=\"_parent\"><img src=\"https://colab.research.google.com/assets/colab-badge.svg\" alt=\"Open In Colab\"/></a>"
      ]
    },
    {
      "cell_type": "code",
      "metadata": {
        "id": "Cspa2ggFML4X"
      },
      "source": [
        "import numpy as np\n",
        "import matplotlib.pyplot as plt\n",
        "import pickle as pkl"
      ],
      "execution_count": 7,
      "outputs": []
    },
    {
      "cell_type": "code",
      "metadata": {
        "colab": {
          "base_uri": "https://localhost:8080/"
        },
        "id": "Nm92FN_9t9Sy",
        "outputId": "d5fea31f-1837-4b29-c39f-e0bdbb0496af"
      },
      "source": [
        "!git clone https://github.com/lucasjirwin/Nearest-Neighbour-Classification-"
      ],
      "execution_count": 1,
      "outputs": [
        {
          "output_type": "stream",
          "text": [
            "Cloning into 'Nearest-Neighbour-Classification-'...\n",
            "remote: Enumerating objects: 6, done.\u001b[K\n",
            "remote: Counting objects: 100% (6/6), done.\u001b[K\n",
            "remote: Compressing objects: 100% (4/4), done.\u001b[K\n",
            "remote: Total 6 (delta 0), reused 0 (delta 0), pack-reused 0\u001b[K\n",
            "Unpacking objects: 100% (6/6), done.\n"
          ],
          "name": "stdout"
        }
      ]
    },
    {
      "cell_type": "code",
      "metadata": {
        "colab": {
          "base_uri": "https://localhost:8080/"
        },
        "id": "dO2G0vi8Lsvi",
        "outputId": "f8d935b2-5a53-4c2f-dd15-8b0e3f49aef0"
      },
      "source": [
        "with open('Nearest-Neighbour-Classification-/mnist2000.pkl', 'rb') as fh:\n",
        "  unpickled_mnist = pkl.load(fh)\n",
        "\n",
        "print(unpickled_mnist)\n",
        "\n",
        "trained_images = unpickled_mnist['train_images']"
      ],
      "execution_count": 8,
      "outputs": [
        {
          "output_type": "stream",
          "text": [
            "{'train_images': array([[[0., 0., 0., ..., 0., 0., 0.],\n",
            "        [0., 0., 0., ..., 0., 0., 0.],\n",
            "        [0., 0., 0., ..., 0., 0., 0.],\n",
            "        ...,\n",
            "        [0., 0., 0., ..., 0., 0., 0.],\n",
            "        [0., 0., 0., ..., 0., 0., 0.],\n",
            "        [0., 0., 0., ..., 0., 0., 0.]],\n",
            "\n",
            "       [[0., 0., 0., ..., 0., 0., 0.],\n",
            "        [0., 0., 0., ..., 0., 0., 0.],\n",
            "        [0., 0., 0., ..., 0., 0., 0.],\n",
            "        ...,\n",
            "        [0., 0., 0., ..., 0., 0., 0.],\n",
            "        [0., 0., 0., ..., 0., 0., 0.],\n",
            "        [0., 0., 0., ..., 0., 0., 0.]],\n",
            "\n",
            "       [[0., 0., 0., ..., 0., 0., 0.],\n",
            "        [0., 0., 0., ..., 0., 0., 0.],\n",
            "        [0., 0., 0., ..., 0., 0., 0.],\n",
            "        ...,\n",
            "        [0., 0., 0., ..., 0., 0., 0.],\n",
            "        [0., 0., 0., ..., 0., 0., 0.],\n",
            "        [0., 0., 0., ..., 0., 0., 0.]],\n",
            "\n",
            "       ...,\n",
            "\n",
            "       [[0., 0., 0., ..., 0., 0., 0.],\n",
            "        [0., 0., 0., ..., 0., 0., 0.],\n",
            "        [0., 0., 0., ..., 0., 0., 0.],\n",
            "        ...,\n",
            "        [0., 0., 0., ..., 0., 0., 0.],\n",
            "        [0., 0., 0., ..., 0., 0., 0.],\n",
            "        [0., 0., 0., ..., 0., 0., 0.]],\n",
            "\n",
            "       [[0., 0., 0., ..., 0., 0., 0.],\n",
            "        [0., 0., 0., ..., 0., 0., 0.],\n",
            "        [0., 0., 0., ..., 0., 0., 0.],\n",
            "        ...,\n",
            "        [0., 0., 0., ..., 0., 0., 0.],\n",
            "        [0., 0., 0., ..., 0., 0., 0.],\n",
            "        [0., 0., 0., ..., 0., 0., 0.]],\n",
            "\n",
            "       [[0., 0., 0., ..., 0., 0., 0.],\n",
            "        [0., 0., 0., ..., 0., 0., 0.],\n",
            "        [0., 0., 0., ..., 0., 0., 0.],\n",
            "        ...,\n",
            "        [0., 0., 0., ..., 0., 0., 0.],\n",
            "        [0., 0., 0., ..., 0., 0., 0.],\n",
            "        [0., 0., 0., ..., 0., 0., 0.]]], dtype=float32), 'train_labels': array([1, 6, 0, ..., 2, 6, 3]), 'test_images': array([[[0., 0., 0., ..., 0., 0., 0.],\n",
            "        [0., 0., 0., ..., 0., 0., 0.],\n",
            "        [0., 0., 0., ..., 0., 0., 0.],\n",
            "        ...,\n",
            "        [0., 0., 0., ..., 0., 0., 0.],\n",
            "        [0., 0., 0., ..., 0., 0., 0.],\n",
            "        [0., 0., 0., ..., 0., 0., 0.]],\n",
            "\n",
            "       [[0., 0., 0., ..., 0., 0., 0.],\n",
            "        [0., 0., 0., ..., 0., 0., 0.],\n",
            "        [0., 0., 0., ..., 0., 0., 0.],\n",
            "        ...,\n",
            "        [0., 0., 0., ..., 0., 0., 0.],\n",
            "        [0., 0., 0., ..., 0., 0., 0.],\n",
            "        [0., 0., 0., ..., 0., 0., 0.]],\n",
            "\n",
            "       [[0., 0., 0., ..., 0., 0., 0.],\n",
            "        [0., 0., 0., ..., 0., 0., 0.],\n",
            "        [0., 0., 0., ..., 0., 0., 0.],\n",
            "        ...,\n",
            "        [0., 0., 0., ..., 0., 0., 0.],\n",
            "        [0., 0., 0., ..., 0., 0., 0.],\n",
            "        [0., 0., 0., ..., 0., 0., 0.]],\n",
            "\n",
            "       ...,\n",
            "\n",
            "       [[0., 0., 0., ..., 0., 0., 0.],\n",
            "        [0., 0., 0., ..., 0., 0., 0.],\n",
            "        [0., 0., 0., ..., 0., 0., 0.],\n",
            "        ...,\n",
            "        [0., 0., 0., ..., 0., 0., 0.],\n",
            "        [0., 0., 0., ..., 0., 0., 0.],\n",
            "        [0., 0., 0., ..., 0., 0., 0.]],\n",
            "\n",
            "       [[0., 0., 0., ..., 0., 0., 0.],\n",
            "        [0., 0., 0., ..., 0., 0., 0.],\n",
            "        [0., 0., 0., ..., 0., 0., 0.],\n",
            "        ...,\n",
            "        [0., 0., 0., ..., 0., 0., 0.],\n",
            "        [0., 0., 0., ..., 0., 0., 0.],\n",
            "        [0., 0., 0., ..., 0., 0., 0.]],\n",
            "\n",
            "       [[0., 0., 0., ..., 0., 0., 0.],\n",
            "        [0., 0., 0., ..., 0., 0., 0.],\n",
            "        [0., 0., 0., ..., 0., 0., 0.],\n",
            "        ...,\n",
            "        [0., 0., 0., ..., 0., 0., 0.],\n",
            "        [0., 0., 0., ..., 0., 0., 0.],\n",
            "        [0., 0., 0., ..., 0., 0., 0.]]], dtype=float32), 'test_labels': array([6, 1, 6, 8, 1, 5, 4, 3, 9, 1, 1, 2, 1, 9, 7, 4, 1, 7, 9, 5, 5, 5,\n",
            "       3, 7, 9, 7, 5, 9, 4, 8, 1, 7, 0, 3, 5, 1, 1, 9, 8, 3, 5, 2, 3, 8,\n",
            "       4, 3, 2, 2, 9, 5, 9, 7, 2, 3, 7, 5, 0, 3, 2, 4, 6, 7, 8, 2, 4, 7,\n",
            "       0, 5, 6, 8, 3, 1, 4, 3, 5, 1, 6, 7, 1, 2, 7, 3, 8, 4, 7, 3, 8, 1,\n",
            "       6, 7, 7, 1, 4, 2, 9, 6, 6, 0, 4, 2, 0, 2, 2, 9, 1, 8, 2, 2, 8, 4,\n",
            "       2, 6, 0, 9, 6, 1, 5, 3, 2, 0, 7, 7, 0, 0, 3, 1, 5, 0, 4, 1, 5, 2,\n",
            "       6, 5, 8, 8, 4, 4, 7, 9, 9, 4, 1, 9, 5, 8, 2, 3, 7, 9])}\n"
          ],
          "name": "stdout"
        }
      ]
    },
    {
      "cell_type": "code",
      "metadata": {
        "colab": {
          "base_uri": "https://localhost:8080/",
          "height": 299
        },
        "id": "a7VRmpNhL0qk",
        "outputId": "5018d598-b134-4386-8377-79815f1feb57"
      },
      "source": [
        "plt.imshow(trained_images[100,:,:])\n",
        "train_labels = unpickled_mnist['train_labels']\n",
        "print(train_labels[100])\n",
        "print(trained_images[100].shape)"
      ],
      "execution_count": 9,
      "outputs": [
        {
          "output_type": "stream",
          "text": [
            "4\n",
            "(28, 28)\n"
          ],
          "name": "stdout"
        },
        {
          "output_type": "display_data",
          "data": {
            "image/png": "[encoded data removed]",
            "text/plain": [
              "<Figure size 432x288 with 1 Axes>"
            ]
          },
          "metadata": {
            "tags": [],
            "needs_background": "light"
          }
        }
      ]
    },
    {
      "cell_type": "markdown",
      "metadata": {
        "id": "YIWwauRGMfbF"
      },
      "source": [
        "Checked that training lables correspond to the correct number displayed in the image.  "
      ]
    },
    {
      "cell_type": "code",
      "metadata": {
        "colab": {
          "base_uri": "https://localhost:8080/",
          "height": 316
        },
        "id": "cpkSNHoDMoG7",
        "outputId": "776232b9-0042-4c10-805b-54ecbd18ea88"
      },
      "source": [
        "test_images = unpickled_mnist['test_images'] \n",
        "\n",
        "# Used basic Euclidean distance in pixels to make a classification function \n",
        "# by (1) computing the squared distances between the test image and the \n",
        "# training data, (2) using the argmin function to determine index of training\n",
        "# image with smallest distance to the image and (3) using the index to return\n",
        "# right training label\n",
        "def classify(test_image): \n",
        "  sq_dists = (test_image - trained_images) * (test_image - trained_images)\n",
        "  sq_dists = np.sum(sq_dists, axis = 1)\n",
        "  sq_dists = np.sum(sq_dists, axis = 1)\n",
        "  smallest = np.argmin(sq_dists)\n",
        "  return smallest\n",
        "\n",
        "print(classify(test_images[10])) # 658 \n",
        "test_labels = unpickled_mnist['test_labels']\n",
        "\n",
        "# Check if the training label corresponds to the test label \n",
        "print(f\"Does {test_labels[10]} = {train_labels[658]}? then accurate!\")  \n",
        "plt.imshow(trained_images[658]) # Check if the training image displays the right number\n",
        "\n",
        "\n"
      ],
      "execution_count": 20,
      "outputs": [
        {
          "output_type": "stream",
          "text": [
            "658\n",
            "Does 1 = 1? then accurate!\n"
          ],
          "name": "stdout"
        },
        {
          "output_type": "execute_result",
          "data": {
            "text/plain": [
              "<matplotlib.image.AxesImage at 0x7f007b5d1390>"
            ]
          },
          "metadata": {
            "tags": []
          },
          "execution_count": 20
        },
        {
          "output_type": "display_data",
          "data": {
            "image/png": "[encoded data removed]",
            "text/plain": [
              "<Figure size 432x288 with 1 Axes>"
            ]
          },
          "metadata": {
            "tags": [],
            "needs_background": "light"
          }
        }
      ]
    },
    {
      "cell_type": "markdown",
      "metadata": {
        "id": "NFh8QihINvQY"
      },
      "source": [
        "Upon testing my classify function, I have noticed that the index returned often corresponds to the number displayed in the test images. This suggests that the calculation of minimum Euclidean distances between the pixels in the test image and all the trained images is an effective way of classifying the test images."
      ]
    },
    {
      "cell_type": "code",
      "metadata": {
        "colab": {
          "base_uri": "https://localhost:8080/"
        },
        "id": "haU5OC9zMst8",
        "outputId": "a5e3f1a9-753d-4126-e1aa-ead3dca08352"
      },
      "source": [
        "sum = 0 \n",
        "\n",
        "# Run the classification algorithm for all test images \n",
        "# and report the accuracy of the classifier\n",
        "for ii in range(150):\n",
        "  train = classify(test_images[ii])\n",
        "  train = train_labels[train]\n",
        "  test = test_labels[ii]\n",
        "  if train == test:\n",
        "    sum = sum + 1\n",
        "\n",
        "accuracy = (sum/150) * 100\n",
        "print(f\"{accuracy}%\")"
      ],
      "execution_count": 24,
      "outputs": [
        {
          "output_type": "stream",
          "text": [
            "85.33333333333334%\n"
          ],
          "name": "stdout"
        }
      ]
    },
    {
      "cell_type": "markdown",
      "metadata": {
        "id": "WylAr8rSPjuO"
      },
      "source": [
        "I found that my classifier was approximately 85% accurate "
      ]
    },
    {
      "cell_type": "code",
      "metadata": {
        "id": "rEK6OTK4Qa0M"
      },
      "source": [
        ""
      ],
      "execution_count": null,
      "outputs": []
    }
  ]
}